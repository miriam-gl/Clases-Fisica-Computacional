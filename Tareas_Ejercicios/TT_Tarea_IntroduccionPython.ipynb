{
  "nbformat": 4,
  "nbformat_minor": 0,
  "metadata": {
    "colab": {
      "provenance": []
    },
    "kernelspec": {
      "name": "python3",
      "display_name": "Python 3"
    },
    "language_info": {
      "name": "python"
    }
  },
  "cells": [
    {
      "cell_type": "markdown",
      "source": [
        "# Tarea 1\n",
        "\n",
        "# Introducción a Python"
      ],
      "metadata": {
        "id": "VBOHm5PqUizj"
      }
    },
    {
      "cell_type": "markdown",
      "source": [
        "## Ejercicio 1\n",
        "\n",
        "Escribe un programa que almacene en una lista los números del 1 al 10 y los muestre, en orden inverso, separados por comas."
      ],
      "metadata": {
        "id": "F-1CucrTVTXC"
      }
    },
    {
      "cell_type": "markdown",
      "source": [
        "Solución:"
      ],
      "metadata": {
        "id": "3U0_WH4ePnUh"
      }
    },
    {
      "cell_type": "code",
      "execution_count": 1,
      "metadata": {
        "id": "T0VTAWnvUYcV",
        "colab": {
          "base_uri": "https://localhost:8080/"
        },
        "outputId": "090c0b50-31a7-453f-d464-2118405e4120"
      },
      "outputs": [
        {
          "output_type": "stream",
          "name": "stdout",
          "text": [
            "[10, 9, 8, 7, 6, 5, 4, 3, 2, 1]\n"
          ]
        }
      ],
      "source": [
        "lista = [1,2,3,4,5,6,7,8,9,10]\n",
        "lista.sort(reverse=True) #sort ordena los elementos de forma ascendente y \"reverse=True\" los ordena de forma descendente\n",
        "print(lista)"
      ]
    },
    {
      "cell_type": "markdown",
      "source": [
        "## Ejercicio 2\n",
        "\n",
        "Haz un programa que pida el nombre de una persona y lo muestre 100 veces, pero dejando un espacio de separación entre cada copia del nombre."
      ],
      "metadata": {
        "id": "IPqLqddeVgd6"
      }
    },
    {
      "cell_type": "markdown",
      "source": [
        "Solución:"
      ],
      "metadata": {
        "id": "w7rpcVpUQM9s"
      }
    },
    {
      "cell_type": "code",
      "source": [
        "nombre = input(\"Escribe un nombre: \") #Le pedimos al usuario un nombre\n",
        "print((nombre + \" \")* 100)"
      ],
      "metadata": {
        "id": "10Tt3eoQVzzc",
        "colab": {
          "base_uri": "https://localhost:8080/"
        },
        "outputId": "af13a4b6-ec5a-4866-8650-780d4ee95747"
      },
      "execution_count": 2,
      "outputs": [
        {
          "output_type": "stream",
          "name": "stdout",
          "text": [
            "Escribe un nombre: Miriam\n",
            "Miriam Miriam Miriam Miriam Miriam Miriam Miriam Miriam Miriam Miriam Miriam Miriam Miriam Miriam Miriam Miriam Miriam Miriam Miriam Miriam Miriam Miriam Miriam Miriam Miriam Miriam Miriam Miriam Miriam Miriam Miriam Miriam Miriam Miriam Miriam Miriam Miriam Miriam Miriam Miriam Miriam Miriam Miriam Miriam Miriam Miriam Miriam Miriam Miriam Miriam Miriam Miriam Miriam Miriam Miriam Miriam Miriam Miriam Miriam Miriam Miriam Miriam Miriam Miriam Miriam Miriam Miriam Miriam Miriam Miriam Miriam Miriam Miriam Miriam Miriam Miriam Miriam Miriam Miriam Miriam Miriam Miriam Miriam Miriam Miriam Miriam Miriam Miriam Miriam Miriam Miriam Miriam Miriam Miriam Miriam Miriam Miriam Miriam Miriam Miriam \n"
          ]
        }
      ]
    },
    {
      "cell_type": "markdown",
      "source": [
        "## Ejercicio 3\n",
        "\n",
        "Escribe un programa que guarde en una variable el diccionario llamado *divisa* y tenga los elementos ordenados, \"Euro\": 18.25, \"Dolar\": 16.80, \"Yuan\": 2.31, \"Yen\": 0.12, \"Dolar canadiense\":12.42, \"Franco Suizo\": 19.13, \"Libra Esterlina\": 21.37 y le pregunte al usuario por una divida. Luego muestre el valor de cambio de la divisa seleccionada o un mensaje de aviso si la divisa no está en el diccionario. Completa con todas las divisas que puedas."
      ],
      "metadata": {
        "id": "04CGWAclV1iZ"
      }
    },
    {
      "cell_type": "markdown",
      "source": [
        "Solución:"
      ],
      "metadata": {
        "id": "pFEX5wKNQwEq"
      }
    },
    {
      "cell_type": "code",
      "source": [
        "divisa = { #El dccionario tiene la forma = \"clave\" : valor\n",
        "    \"Euro\" : 18.25,\n",
        "    \"Dolar\" : 16.80,\n",
        "    \"Yuan\" : 2.31,\n",
        "    \"Yen\" : 0.12,\n",
        "    \"Dolar Canadiense\" : 12.42,\n",
        "    \"Franco Suizo\" : 19.13,\n",
        "    \"Libra Esterlina\" : 21.37\n",
        "}\n",
        "\n",
        "dato = input(\"Da el nombre de una divisa: \") #Le pide el nombre de una divisa al usuario\n",
        "\n",
        "dato = str(dato) #Lo pasamos a este tipo de dato\n",
        "resultado = divisa.get(dato) #Añadimos get para buscar la clave\n",
        "\n",
        "#Aplicamos los condicionales if y else\n",
        "\n",
        "if resultado: #Si existe la divisa buscada entonces...\n",
        "  print(f\"El valor de cambio de esta divisa es {resultado}\") #Como queremos que nos devuelva un número le añadimos \"f\"\n",
        "else: #Si la divisa buscada no está en el diccionario entonces...\n",
        "  print(\"Esta divisa no existe en este archivo\")"
      ],
      "metadata": {
        "colab": {
          "base_uri": "https://localhost:8080/"
        },
        "id": "GII8n0RURknV",
        "outputId": "3395b64e-5af4-430b-b30c-e6db07cb9cda"
      },
      "execution_count": 3,
      "outputs": [
        {
          "output_type": "stream",
          "name": "stdout",
          "text": [
            "Da el nombre de una divisa: Yen\n",
            "El valor de cambio de esta divisa es 0.12\n"
          ]
        }
      ]
    },
    {
      "cell_type": "markdown",
      "source": [
        "## Ejercicio 4\n",
        "\n",
        "Un satélite se encuentra en una órbita circular alrededor de la Tierra, tal que completa un círculo en $T$ segundos; $T$ es el periodo de la órbita:\n",
        "\n",
        "i) Muestra que la altitud $h$ sobre la superficie de la Tierra será:\n",
        "$$\n",
        "h=\\left( \\frac{GMT^2}{4\\pi^2} \\right)^{\\tfrac{1}{3}} -R\n",
        "$$\n",
        "donde $G$ es la constante de gravitación universal con valor $G=6.67\\times10^{-11}$ m$^{3}$kg$^{-1}$s$^{-2}$, $M$ es la masa de la Tierra con valor $M=5.97\\times10^{24}$kg y $R$ es el radio de la Tierra con valor $R=6371$ kg.\n",
        "\n",
        "(ii) Escribe un programa que le pregunte al usuario el periodo que desea que tenga su satélite girando alrededor de la Tierra y que le regrese la altitud, en metros, que deberá tener.\n",
        "\n",
        "(iii) ¿Qué altitud deberá tener el satélite si queremos que orbite la Tierra con un periodo de un día (órbita geosíncrona), 90 minutos, 45 minutos? ¿Qué observas?\n",
        "\n",
        "(iv) En práctica, una órbita geosíncrona es aquella cuya órbita tiene un periodo de un día sideral, que es de 23.93 horas, no de 24 horas. ¿Por qué es esto? ¿Cuál será la diferencia en altitud entre $T$= 23.93 horas y $T$= 24 horas?\n",
        "\n",
        "\n"
      ],
      "metadata": {
        "id": "Nw9R0Dg1Zx5t"
      }
    },
    {
      "cell_type": "markdown",
      "source": [
        "***Solución (i) :***\n",
        "\n",
        "Un satelite de masa ***m*** que se encuentra en una orbita circular alrededor de la Tierra, con un periodo de orbita ***T***, tiene una velocidad angular ***w***, que se expresa como:\n",
        "\n",
        "$w =$ $ \\frac{2π}{T}$ *$[\\frac{rad}{s}]$*\n",
        "\n",
        "Como el satelite está girando alrededor de la Tierra, este tiene una fuerza centripeta dirigida hacia el centro de la Tierra. Esta fuerza está definida por la segunda ley de Newton, como el producto de la masa de dicho satelite y de su aceleración centripeta. Esta aceleración se define como:\n",
        "\n",
        "$a_c$ = $\\frac{v^2}{R+h}$\n",
        "\n",
        "Donde ***v*** es su velocidad lineal y ***R+h*** es el radio de curvatura, tal que, ***R*** es el radio de la Tierra y ***h*** es la altitud sobre la suuperficie de la Tierra a la que se encuentra el satelite. La velocidad lineal (***v***) también se puede expresar en términos de la velocidad angular (***w***) del satelite de la siguiente forma:\n",
        "\n",
        "$v=w(R+h)$\n",
        "\n",
        "Dicho esto, expresamos a la fuerza centripeta ($F_c$) como:\n",
        "\n",
        "$F_c =$ = $m a_c$ = $m \\frac{v^2}{R+h}$ = $m \\frac{w^2 (R+h)^2}{R+h}$ = $m w^2 (R+h)$\n",
        "\n",
        "Es decir; $F_c$ = $m$ $w^2$ $(R+h)$, es nuestra fuerza centripeta.\n",
        "\n",
        "Por otro lado, dado que existe una atracción entre la masa del satelite y la masa de la Tierra, decimos entonces que nuestra fuerza centripeta es igual a la fuerza gravitatoria entre ambos cuerpos. La fuerza gravitatoria entre dichos cuerpos es directamente proporcional al producto de sus masas e inversamente proporcional al cuadrado de la distancia que los separa y la expresamos como:\n",
        "\n",
        "$F_g$ = G $\\frac{Mm}{(R+h)^2}$\n",
        "\n",
        "Donde ***M*** es la masa de la Tierra, ***R+h*** es la distancia que separa a ambos cuerpos y ***G*** es la constante de gravitación universal.\n",
        "\n",
        "Dado que $F_c$ es igual a $F_g$, igualamos ambas ecuaciones:\n",
        "\n",
        "$F_c$ = $F_g$\n",
        "\n",
        "$⇒$  $m$ $w^2$ $(R+h)$ = $G$ $\\frac{Mm}{(R+h)^2}$\n",
        "\n",
        "$⇒$  $w^2$ $(R+h)^3$ = $G$ $M$\n",
        "\n",
        "$⇒$ $(R+h)^3$ = $\\frac{GM}{w^2}$ = $\\frac{GM T^2}{4 Π^2}$, sustituyendo a la velocidad angular.\n",
        "\n",
        "$⇒$ $R+h$ = $\\left(\\frac{GMT^2}{4 Π^2}\\right)^\\frac{1}{3}$\n",
        "\n",
        "Por lo que la altitud ***h*** sobre la superficie de la Tierra del satelite la podemos definir por la expresión:\n",
        "\n",
        "$h$ = $\\left(\\frac{GM T^2}{4 Π^2}\\right)^\\frac{1}{3}$ - $R$\n",
        "\n",
        "***qed.***\n",
        "\n",
        "\n",
        "\n",
        "\n"
      ],
      "metadata": {
        "id": "Cnb4BpQ9SnEW"
      }
    },
    {
      "cell_type": "markdown",
      "source": [
        "***Solución de (ii) :***"
      ],
      "metadata": {
        "id": "cTjUmzaDMnNM"
      }
    },
    {
      "cell_type": "code",
      "source": [
        "from math import pi\n",
        "\n",
        "G = 6.67e-11 #Valor de la constante de gravitación universal [m^3/(kg s^2)]\n",
        "M = 5.97e24 #Valor de la masa de la Tierra (kg)\n",
        "R = 6371 #Valor del radio de la Tierra en metros (m)\n",
        "T = float(input(\"Ingresa el valor del periodo (T) en segundos (s): \")) #Aquí definimos al periodo orbital como un número y le pedimos al usuario que lo asigne\n",
        "\n",
        "h = ((G* M* T**2) / (4* pi**2))**(1/3) - R #Definimos a la función de altitud\n",
        "\n",
        "print(f\"El valor de la altitud del satelite sobre la superficie de la Tierra es, h= {h} m\") #Añadimos f, pues queremos que nos devuelva un número"
      ],
      "metadata": {
        "colab": {
          "base_uri": "https://localhost:8080/"
        },
        "id": "KpzEwz0alLFg",
        "outputId": "821db248-b3bf-4a3c-bca7-210c3831bb32"
      },
      "execution_count": 4,
      "outputs": [
        {
          "output_type": "stream",
          "name": "stdout",
          "text": [
            "Ingresa el valor del periodo (T) en segundos (s): 2000\n",
            "El valor de la altitud del satelite sobre la superficie de la Tierra es, h= 3423413.2884738063 m\n"
          ]
        }
      ]
    },
    {
      "cell_type": "markdown",
      "source": [
        "***Solución de (iii)***"
      ],
      "metadata": {
        "id": "NKve3v2MSGP7"
      }
    },
    {
      "cell_type": "markdown",
      "source": [
        "  CASO 1:\n",
        "\n",
        "Si queremos que T = 1 dia, debemos convetirlo primero a segundos:"
      ],
      "metadata": {
        "id": "dy1ar0SaTADc"
      }
    },
    {
      "cell_type": "code",
      "source": [
        "T_1 = 24*60*60\n",
        "print(T_1)"
      ],
      "metadata": {
        "colab": {
          "base_uri": "https://localhost:8080/"
        },
        "id": "icR90Sw8P7kM",
        "outputId": "d41a84cb-fca8-429b-8e2a-af40c03b94ef"
      },
      "execution_count": 5,
      "outputs": [
        {
          "output_type": "stream",
          "name": "stdout",
          "text": [
            "86400\n"
          ]
        }
      ]
    },
    {
      "cell_type": "markdown",
      "source": [
        "Ahora decimos que T= 86400 s, lo ponemos en nuestro programa anterior y obtenemos el valor de la altitud (***h***).\n",
        "El valor obtenido fue:\n",
        "\n",
        "***h*** = 42220539.176174976 *m*"
      ],
      "metadata": {
        "id": "IpIhOibJT1jg"
      }
    },
    {
      "cell_type": "markdown",
      "source": [
        "CASO 2:"
      ],
      "metadata": {
        "id": "heUw7xgxUaaO"
      }
    },
    {
      "cell_type": "markdown",
      "source": [
        "Si queremos que T = 90 minutos, debemos convertirlo primero a segundos:"
      ],
      "metadata": {
        "id": "B3oGgwaPUeX4"
      }
    },
    {
      "cell_type": "code",
      "source": [
        "T_2 = 90*60\n",
        "print(T_2)"
      ],
      "metadata": {
        "colab": {
          "base_uri": "https://localhost:8080/"
        },
        "id": "G6Dio1JbTpWj",
        "outputId": "cbe7b20c-596e-4842-8669-98f1090f1da3"
      },
      "execution_count": 6,
      "outputs": [
        {
          "output_type": "stream",
          "name": "stdout",
          "text": [
            "5400\n"
          ]
        }
      ]
    },
    {
      "cell_type": "markdown",
      "source": [
        "Ahora decimos que T=5400 *s*, lo metemos a nuestro código anterior y obtenemos ***h***.\n",
        "\n",
        "El valor obtenido fue: ***h***= 6643950.625372861 *m*"
      ],
      "metadata": {
        "id": "z71wC0psU1n4"
      }
    },
    {
      "cell_type": "markdown",
      "source": [
        "CASO 3:"
      ],
      "metadata": {
        "id": "DtVwiGdNVdZK"
      }
    },
    {
      "cell_type": "markdown",
      "source": [
        "Si queremos que T= 45 minutos, lo convertimos primero a segundos:"
      ],
      "metadata": {
        "id": "wDpOor_bVga0"
      }
    },
    {
      "cell_type": "code",
      "source": [
        "T_3 = 45*60\n",
        "print(T_3)"
      ],
      "metadata": {
        "colab": {
          "base_uri": "https://localhost:8080/"
        },
        "id": "Q20llnEEUsnM",
        "outputId": "4f6ccc39-f9ca-4647-f87c-bd8a4e71d1e0"
      },
      "execution_count": 7,
      "outputs": [
        {
          "output_type": "stream",
          "name": "stdout",
          "text": [
            "2700\n"
          ]
        }
      ]
    },
    {
      "cell_type": "markdown",
      "source": [
        "Ahora decimos que T=2700 *s*. lo metemos nuevamente al código anterior y obtenemos ***h****\n",
        "\n",
        "El valor obtenido fue; ***h***= 4183069.1021891767 *m*"
      ],
      "metadata": {
        "id": "zkC4Wb9OVyQG"
      }
    },
    {
      "cell_type": "markdown",
      "source": [
        "Notemos que conforme el periodo de la orbita es menor, el valor de la altitud también lo es, es decir, son directamente proporcionales."
      ],
      "metadata": {
        "id": "BB_XB_KUWVSG"
      }
    },
    {
      "cell_type": "markdown",
      "source": [
        "***Solución de (iv) : ***"
      ],
      "metadata": {
        "id": "iJce-UqoWmnR"
      }
    },
    {
      "cell_type": "markdown",
      "source": [
        "Veamos que sucede cuando T=23.93 horas, primero convertimos esto a segundos."
      ],
      "metadata": {
        "id": "5nyuOUcqXCVg"
      }
    },
    {
      "cell_type": "code",
      "source": [
        "T_4 = 23.93*60*60\n",
        "print(T_4)"
      ],
      "metadata": {
        "colab": {
          "base_uri": "https://localhost:8080/"
        },
        "id": "E7Pj7U7rWOsV",
        "outputId": "93917140-651e-45a9-c326-e0607ee9eae1"
      },
      "execution_count": 8,
      "outputs": [
        {
          "output_type": "stream",
          "name": "stdout",
          "text": [
            "86148.0\n"
          ]
        }
      ]
    },
    {
      "cell_type": "markdown",
      "source": [
        "Ahora decimos que T=86148.0 *s*, lo metemos al código anterior y obtenemos ***h*** = 42138391.329895645 *m*"
      ],
      "metadata": {
        "id": "sPZHpQsqXXQ-"
      }
    },
    {
      "cell_type": "code",
      "source": [
        "h_24 = 42220539.176174976 #Altitud con T=24 h\n",
        "h_23 = 42138391.329895645 #Altitud con T=23.93\n",
        "\n",
        "h_f= h_24 - h_23 #Diderencia de altitudes\n",
        "print(f\"La diferencia de altitudes entre T=23.93h y T=24h es {h_f} m\")"
      ],
      "metadata": {
        "colab": {
          "base_uri": "https://localhost:8080/"
        },
        "id": "pG6QoOU84WsR",
        "outputId": "2d27488f-ff77-4b2e-9523-7ddb7b46221c"
      },
      "execution_count": 9,
      "outputs": [
        {
          "output_type": "stream",
          "name": "stdout",
          "text": [
            "La diferencia de altitudes entre T=23.93h y T=24h es 82147.84627933055 m\n"
          ]
        }
      ]
    },
    {
      "cell_type": "code",
      "source": [],
      "metadata": {
        "id": "HlH9zCHVpH2G"
      },
      "execution_count": null,
      "outputs": []
    }
  ]
}