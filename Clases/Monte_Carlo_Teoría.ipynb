{
  "cells": [
    {
      "cell_type": "markdown",
      "metadata": {
        "id": "fUwavHnFcm-h"
      },
      "source": [
        "## Errores Numéricos con Monte Carlo"
      ]
    },
    {
      "cell_type": "code",
      "execution_count": null,
      "metadata": {
        "id": "CY_Wm8Nfcm-m"
      },
      "outputs": [],
      "source": [
        "from pylab import *\n",
        "from numpy import *"
      ]
    },
    {
      "cell_type": "markdown",
      "metadata": {
        "id": "GQOYKonzcm-o"
      },
      "source": [
        "Recordemos la definición de Varianza:\n",
        "Varianza (que suele representarse como $\\sigma ^{2}$) de una variable aleatoria es una medida de dispersión definida como la esperanza del cuadrado de la desviación de dicha variable respecto a su media."
      ]
    },
    {
      "cell_type": "markdown",
      "metadata": {
        "id": "TKIOtkdwcm-o"
      },
      "source": [
        "Determinando la Varianza de nuestra estimación:\n",
        "    \n",
        "$$\\sigma ^2=\\langle f^2 \\rangle - \\langle f \\rangle ^2$$\n",
        "\n",
        "La varianza nos da la idea de cuanto varia f(x) en el dominio de x."
      ]
    },
    {
      "cell_type": "markdown",
      "metadata": {
        "id": "TiYmoHLXcm-q"
      },
      "source": [
        "## Varianza para Monte Carlo Crudo"
      ]
    },
    {
      "cell_type": "markdown",
      "metadata": {
        "id": "SKk-m280cm-q"
      },
      "source": [
        "   \n",
        "$$\\sigma ^2=\\langle f^2 \\rangle - \\langle f \\rangle ^2$$\n",
        "\n",
        "Supongamos que hacemos la medición de $I$ con distintas $N$ ($I_N$). De acuerdo al teorema del límite central, estos valores están distribuidos alrededor de $\\langle I \\rangle$ con una distribución normal. Entonces, la varianza la podemos definir como:\n",
        "\n",
        "$$\\sigma_m ^2=\\langle I^2 \\rangle - \\langle I \\rangle ^2$$\n",
        "\n",
        "donde $\\sigma_m$ es la desviación estandar del promedio:\n",
        "$$\\sigma_m =\\frac{\\sigma}{\\sqrt{N}}$$\n",
        "\n",
        " Para Monte Carlo crudo\n",
        "\n",
        "$$\n",
        "\\sigma^2=\\left[\\frac{b-a}{N}\\sum_i^N f^2(x_i)\\right]-\\left[\\sum_j^N \\frac{b-a}{N}f(x_i)\\right]^2\n",
        "$$\n"
      ]
    },
    {
      "cell_type": "markdown",
      "metadata": {
        "id": "PtBUWn-Zcm-r"
      },
      "source": [
        "Regresemos a la integral de $$\\int_0^{\\infty}\\frac{e^{-x}}{1+(x-1)^2}dx$$"
      ]
    },
    {
      "cell_type": "code",
      "execution_count": null,
      "metadata": {
        "colab": {
          "base_uri": "https://localhost:8080/"
        },
        "id": "sPtwltRkcm-r",
        "outputId": "fc4fb50c-6734-4b3f-b614-e2546a95a444"
      },
      "outputs": [
        {
          "output_type": "stream",
          "name": "stdout",
          "text": [
            "varianza 0.26986634057594916\n",
            "con un error estimado de = 0.005158853744819537\n"
          ]
        }
      ],
      "source": [
        "from random import *\n",
        "from pylab import *\n",
        "from math import *\n",
        "\n",
        "def f(x):\n",
        "    \"\"\"\n",
        "    x tiene que estar en radianes\n",
        "    \"\"\"\n",
        "    return (e**(-1*x))/(1+(x-1)**2)\n",
        "\n",
        "def pot_f(x):\n",
        "    return (f(x)*f(x))\n",
        "\n",
        "def varianza_deMC(f,a,b,N=5000):\n",
        "    n_in = 0\n",
        "    #<I**2>\n",
        "    for i in range(N):\n",
        "        x = uniform(a, b)\n",
        "        n_in += f(x)**2\n",
        "    sum_of_sqs = n_in*(b-a) / N\n",
        "    #<I>**2\n",
        "    n_in = 0\n",
        "    for i in range(N):\n",
        "        x = uniform(a, b)\n",
        "        n_in = f(x)\n",
        "    sq_ave = ((b-a)*n_in/N)**2\n",
        "\n",
        "    return sum_of_sqs - sq_ave\n",
        "\n",
        "print('varianza',varianza_deMC(f,0,5,10000))\n",
        "error=sqrt(varianza_deMC(f,0,5,10000))/sqrt(10000)\n",
        "print('con un error estimado de =',error)"
      ]
    },
    {
      "cell_type": "markdown",
      "metadata": {
        "id": "mX5l-IXzcm-s"
      },
      "source": [
        "¿Conviene estimar el error con el error porcentual o con el error estimado por la varianza?\n",
        "Regresemos al problema de calcular $\\pi$ dado que conocemos el valor real."
      ]
    },
    {
      "cell_type": "code",
      "execution_count": null,
      "metadata": {
        "colab": {
          "background_save": true,
          "base_uri": "https://localhost:8080/"
        },
        "id": "TicfyZjJcm-t",
        "scrolled": true,
        "outputId": "04d8c165-866d-4506-ea21-997b711d5f38"
      },
      "outputs": [
        {
          "name": "stdout",
          "output_type": "stream",
          "text": [
            "100.0 3.197567991958743 0.055975338368949856\n",
            "200.0 3.21588332875134 0.07429067516154708\n",
            "400.0 3.1529591991495574 0.01136654555976424\n",
            "800.0 3.1591790502947203 0.017586396704927232\n",
            "1600.0 3.1553389213091756 0.013746267719382477\n",
            "3200.0 3.152820739090896 0.011228085501103102\n",
            "6400.0 3.149888779103133 0.008296125513339803\n",
            "12800.0 3.1406457990147945 0.0009468545749986568\n",
            "25600.0 3.1408692837807948 0.000723369808998342\n",
            "51200.0 3.138885454094232 0.0027071994955609746\n",
            "102400.0 3.140077675158896 0.001514978430896985\n",
            "204800.0 3.140434387181569 0.00115826640822414\n",
            "409600.0 3.142093420256178 0.0005007666663847665\n",
            "819200.0 3.1420247937391244 0.00043214014933123934\n",
            "1638400.0 3.1410332659222893 0.0005593876675038523\n",
            "3276800.0 3.1418361375165667 0.00024348392677353559\n"
          ]
        },
        {
          "data": {
            "image/png": "[encoded data removed]",
            "text/plain": [
              "<Figure size 640x480 with 1 Axes>"
            ]
          },
          "metadata": {},
          "output_type": "display_data"
        }
      ],
      "source": [
        "from random import random\n",
        "from pylab import *\n",
        "#Funcion que guarda todos los puntos aleatorios de un solo experimento.\n",
        "def random_vectoria(n):\n",
        "    r=[]\n",
        "    for i in range(n):\n",
        "        r.append(random())\n",
        "    return r\n",
        "total=16 #Veces que se repite el experimento\n",
        "N=zeros(total)\n",
        "R=zeros(total) #Resultado de la integral\n",
        "E=zeros(total)\n",
        "n0=100 #numeros de tiros o puntos de la integral (iniciamos con 100)\n",
        "for i in range(total): #i guarda el numero de veces que repito el experimento\n",
        "    N[i]=n0\n",
        "    r=random_vectoria(n0)\n",
        "    R[i]=0.\n",
        "    for j in range(n0): #aquí va MonteCarlo\n",
        "        x=r[j]\n",
        "        R[i]+=sqrt(1-x**2) #circulo unitario\n",
        "    R[i]*=4./float(n0)\n",
        "    n0*=2 #duplicamos el numero de tiros\n",
        "    E[i] = abs(R[i]-pi) #Error absoluto\n",
        "    print(N[i],R[i],E[i])\n",
        "\n",
        "plot(N,E,ls='-',c='red',lw=3,label='N.vs.error')\n",
        "plot(N,0.84/sqrt(N),ls='-',c='blue',lw=3,label='variancia')\n",
        "xscale('log')\n",
        "yscale('log')\n",
        "legend()\n",
        "show()"
      ]
    },
    {
      "cell_type": "markdown",
      "metadata": {
        "id": "nQQ_HIW-cm-t"
      },
      "source": [
        "Hasta el momento, tenemos dos formas de mejorar la integral:\n",
        "    1. Con muchos pasos\n",
        "    2. Reduciendo la varianza (Importance sampling)"
      ]
    },
    {
      "cell_type": "markdown",
      "metadata": {
        "id": "2UEPYL_Ecm-t"
      },
      "source": [
        "Una manera de reducir la variancia es muestrear las regiones donde se encuentra la integral, con mayores contribuciones de puntos (ya no tener una distribución uniforme de puntos aleatorios). Para esto, introducimos una distribución de probabilidad $g(x)$ normalizada en el intervalo de integración\n",
        "$$\\int _a^b{g(x)dx} = 1.$$\n",
        "Entonces, se puede reescribir la integral de $f(x)$ como\n",
        "$$I=\\int _a^b{\\frac{f(x)}{g(x)}g(x)dx}$$\n",
        "Podemos evaluar esta integral, mapeando el espacio con puntos aleatorios que obedecen la distribución de probabilidad dada $g(x)$ y evaluando la suma $$I(N)=\\frac{1}{N} \\sum_{i=1}^N \\frac{f(x_i)}{g(x_i)}$$.\n",
        "\n",
        "(Para el caso uniforme $g(x)=1/(b-a)$, la expresión se reduce a Monte Carlo crudo)\n",
        "\n",
        "Truco: Para escoger $g(x)$, que minimice la variancia, podemos escoger una $g(x)$ que imite a $f(x)$, donde $f(x)$ es larga. Si se escoge apropiadamente $g(x)$, el integrando varia muy lentamente, y la variancia se reduce."
      ]
    },
    {
      "cell_type": "markdown",
      "metadata": {
        "id": "9siWBPZhcm-u"
      },
      "source": [
        "### Visualicemos un problema concreto\n",
        "\n",
        "Para la integral de $$I(x)=\\int_0^{\\infty}\\frac{e^{-x}}{1+(x-1)^2}dx$$"
      ]
    },
    {
      "cell_type": "code",
      "execution_count": null,
      "metadata": {
        "id": "v4tdcFQecm-u",
        "outputId": "a6a192fb-2d15-4104-e4bb-74264855dc08"
      },
      "outputs": [
        {
          "data": {
            "image/png": "[encoded data removed]",
            "text/plain": [
              "<Figure size 432x288 with 1 Axes>"
            ]
          },
          "metadata": {},
          "output_type": "display_data"
        }
      ],
      "source": [
        "def f(x):\n",
        "    \"\"\"\n",
        "    x tiene que estar en radianes\n",
        "    \"\"\"\n",
        "    return (e**(-1*x))/(1+(x-1)**2)\n",
        "xs = [float(i/50) for i in range(int(50*pi*2))]\n",
        "ys = [f(x) for x in xs]\n",
        "plt.plot(xs,ys)\n",
        "plt.title(\"f(x)\");"
      ]
    },
    {
      "cell_type": "markdown",
      "metadata": {
        "id": "rDa70UWFcm-u"
      },
      "source": [
        "Proponemos la primera función de peso:\n",
        "$$g=Ae^{-\\lambda x}$$\n",
        "\n",
        "Entonces, g(x) la escogimos así porque es la función que más se parece a la función a evaluar. Ahora, queda por determinar la $A$ y $\\lambda$ optima que nos resuelva la función\n"
      ]
    },
    {
      "cell_type": "code",
      "execution_count": null,
      "metadata": {
        "id": "tCKBGOmqcm-u",
        "outputId": "e876c9ce-7eff-4d30-d7c6-4d7a6ee85716"
      },
      "outputs": [
        {
          "data": {
            "image/png": "[encoded data removed]",
            "text/plain": [
              "<Figure size 432x288 with 1 Axes>"
            ]
          },
          "metadata": {},
          "output_type": "display_data"
        }
      ],
      "source": [
        "def f(x):\n",
        "    \"\"\"\n",
        "    x tiene que estar en radianes\n",
        "    \"\"\"\n",
        "    return (e**(-1*x))/(1+(x-1)**2)\n",
        "\n",
        "def f1(x):\n",
        "    return 1*(e**(-1*x))\n",
        "xs = [float(i/50) for i in range(int(50*pi*2))]\n",
        "ys = [f(x) for x in xs]\n",
        "ys1 = [f1(x) for x in xs]\n",
        "plt.plot(xs,ys)\n",
        "plt.plot(xs,ys1)\n",
        "plt.title(\"f(x)\");"
      ]
    },
    {
      "cell_type": "markdown",
      "metadata": {
        "id": "G1ONVUUfcm-u"
      },
      "source": [
        "La azúl es la función a aproximar, mientras que la naranja es nuestra función de peso. Nótese que para que la función de prueba se aproxime mejor es necesario tener $A$ y $\\lambda$ óptimas."
      ]
    },
    {
      "cell_type": "markdown",
      "metadata": {
        "id": "uQL3MGJbcm-v"
      },
      "source": [
        "Para encontrar el caso óptimo y resolver la integral, cálculemos distintas $\\lambda \\in [0.05,3.0]$ y determinaremos la variancia que se genera. Luego, escogeremos la que tiene variancia mínima. La variancia será cálculada como:\n",
        "\n",
        "$$\n",
        "\\sigma^2=\\left[\\frac{1}{N} \\sum_i^N \\frac{f^2(x_i)}{g^2(x_i)} \\right] - \\left[\\frac{1}{N} \\sum_i^N \\frac{f^2(x_j)}{g^2(x_j)} \\right]^2\n",
        "$$\n",
        "\n",
        "y aproximaremos la integral como:\n",
        "\n",
        "$$\n",
        "I\\approx \\frac{1}{N} \\sum_i^N \\frac{f(g^{-1}(r_i))}{g(g^{-1}(r_i))}\n",
        "$$\n"
      ]
    },
    {
      "cell_type": "code",
      "execution_count": null,
      "metadata": {
        "id": "VHOF9fmUcm-v",
        "outputId": "6891d32a-fa48-4fcd-da9b-3c79275eca3e"
      },
      "outputs": [
        {
          "name": "stdout",
          "output_type": "stream",
          "text": [
            "lambda 1/60: 0.05\n",
            "lambda 2/60: 0.1\n",
            "lambda 3/60: 0.15000000000000002\n",
            "lambda 4/60: 0.2\n",
            "lambda 5/60: 0.25\n",
            "lambda 6/60: 0.30000000000000004\n",
            "lambda 7/60: 0.35000000000000003\n",
            "lambda 8/60: 0.4\n",
            "lambda 9/60: 0.45\n",
            "lambda 10/60: 0.5\n",
            "lambda 11/60: 0.55\n",
            "lambda 12/60: 0.6000000000000001\n",
            "lambda 13/60: 0.65\n",
            "lambda 14/60: 0.7000000000000001\n",
            "lambda 15/60: 0.75\n",
            "lambda 16/60: 0.8\n",
            "lambda 17/60: 0.8500000000000001\n",
            "lambda 18/60: 0.9\n",
            "lambda 19/60: 0.9500000000000001\n",
            "lambda 20/60: 1.0\n",
            "lambda 21/60: 1.05\n",
            "lambda 22/60: 1.1\n",
            "lambda 23/60: 1.1500000000000001\n",
            "lambda 24/60: 1.2000000000000002\n",
            "lambda 25/60: 1.25\n",
            "lambda 26/60: 1.3\n",
            "lambda 27/60: 1.35\n",
            "lambda 28/60: 1.4000000000000001\n",
            "lambda 29/60: 1.4500000000000002\n",
            "lambda 30/60: 1.5\n",
            "lambda 31/60: 1.55\n",
            "lambda 32/60: 1.6\n",
            "lambda 33/60: 1.6500000000000001\n",
            "lambda 34/60: 1.7000000000000002\n",
            "lambda 35/60: 1.75\n",
            "lambda 36/60: 1.8\n",
            "lambda 37/60: 1.85\n",
            "lambda 38/60: 1.9000000000000001\n",
            "lambda 39/60: 1.9500000000000002\n",
            "lambda 40/60: 2.0\n",
            "lambda 41/60: 2.0500000000000003\n",
            "lambda 42/60: 2.1\n",
            "lambda 43/60: 2.15\n",
            "lambda 44/60: 2.2\n",
            "lambda 45/60: 2.25\n",
            "lambda 46/60: 2.3000000000000003\n",
            "lambda 47/60: 2.35\n",
            "lambda 48/60: 2.4000000000000004\n",
            "lambda 49/60: 2.45\n",
            "lambda 50/60: 2.5\n",
            "lambda 51/60: 2.5500000000000003\n",
            "lambda 52/60: 2.6\n",
            "lambda 53/60: 2.6500000000000004\n",
            "lambda 54/60: 2.7\n",
            "lambda 55/60: 2.75\n",
            "lambda 56/60: 2.8000000000000003\n",
            "lambda 57/60: 2.85\n",
            "lambda 58/60: 2.9000000000000004\n",
            "lambda 59/60: 2.95\n",
            "lambda 60/60: 3.0\n",
            "Lambda Optimal: 1.7000000000000002\n",
            " VarianciaOptimal: 0.04508184387703573\n",
            "Error: 0.0021232485459087387\n",
            "Calculando la integral con la lambda mejor\n",
            "Integral con Importance Sampling: 0.7002092832671194\n",
            "Variancia: 0.046761103063097\n",
            "Error: 0.0021624315726306116\n"
          ]
        }
      ],
      "source": [
        "def f(x):\n",
        "    \"\"\"\n",
        "    x tiene que estar en radianes\n",
        "    \"\"\"\n",
        "    return (e**(-1*x))/(1+(x-1)**2)\n",
        "\n",
        "def P(x, A, lamda):\n",
        "    e = 2.71828\n",
        "    return A*pow(e, -1*lamda*x)\n",
        "\n",
        "def P_1(r, lamda):\n",
        "    return (-1 * log(float(r)))/lamda\n",
        "\n",
        "\n",
        "def varianza_min(lamda, N):\n",
        "    A = lamda\n",
        "    int_max = 5\n",
        "    total = 0\n",
        "    for i in range(N):\n",
        "        x = uniform(0, int_max)\n",
        "        total += (f(x)/P(x, A, lamda))**2\n",
        "    sum_of_sqs = total / N\n",
        "\n",
        "    total = 0\n",
        "    for i in range(N):\n",
        "        x = uniform(0, int_max)\n",
        "        total += f(x)/P(x, A, lamda)\n",
        "    sq_ave = (total/N)**2\n",
        "    return sum_of_sqs - sq_ave\n",
        "\n",
        "def importance_sampling_MC(lamda, N):\n",
        "    A = lamda\n",
        "    total = 0\n",
        "    for i in range(N):\n",
        "        r = uniform(0,1)\n",
        "        total += f(P_1(r, lamda))/P(P_1(r, lamda), A, lamda)\n",
        "    approximation = float(total/N)\n",
        "    return approximation\n",
        "\n",
        "test_lamdas = [i*0.05 for i in range(1, 61)]\n",
        "variances = []\n",
        "\n",
        "for i, lamda in enumerate(test_lamdas): #funcion que va enumerando una lista mientras la recorre\n",
        "    print(f\"lambda {i+1}/{len(test_lamdas)}: {lamda}\")\n",
        "    A = lamda\n",
        "    variances.append(varianza_min(lamda, 10000))\n",
        "\n",
        "optimal_lamda = test_lamdas[np.argmin(np.asarray(variances))]\n",
        "IS_variance = variances[np.argmin(np.asarray(variances))] #aqui encuentro el menor elemento de todas las varianza\n",
        "\n",
        "print(f\"Lambda Optimal: {optimal_lamda}\")\n",
        "print(f\" VarianciaOptimal: {IS_variance}\")\n",
        "print(f\"Error: {(IS_variance/10000)**0.5}\")\n",
        "\n",
        "N = 10000\n",
        "approx = importance_sampling_MC(optimal_lamda,N)\n",
        "variance = varianza_min(optimal_lamda, N)\n",
        "error = (variance/N)**0.5\n",
        "\n",
        "print('Calculando la integral con la lambda mejor')\n",
        "print(f\"Integral con Importance Sampling: {approx}\")\n",
        "print(f\"Variancia: {variance}\")\n",
        "print(f\"Error: {error}\")"
      ]
    },
    {
      "cell_type": "markdown",
      "metadata": {
        "id": "J4CowLOgcm-v"
      },
      "source": [
        "Ejemplo:\n",
        "Sea $$I=\\int _0^1 {e^{-x^2}dx}.$$\n",
        "Una función de peso razonable es $g(x)=Ae^{-x}$, donde $A$ es la constante de normalización."
      ]
    }
  ],
  "metadata": {
    "colab": {
      "provenance": []
    },
    "kernelspec": {
      "display_name": "Python 3 (ipykernel)",
      "language": "python",
      "name": "python3"
    },
    "language_info": {
      "codemirror_mode": {
        "name": "ipython",
        "version": 3
      },
      "file_extension": ".py",
      "mimetype": "text/x-python",
      "name": "python",
      "nbconvert_exporter": "python",
      "pygments_lexer": "ipython3",
      "version": "3.11.0"
    }
  },
  "nbformat": 4,
  "nbformat_minor": 0
}