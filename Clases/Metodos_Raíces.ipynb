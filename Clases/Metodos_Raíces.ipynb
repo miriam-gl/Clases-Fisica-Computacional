{
  "nbformat": 4,
  "nbformat_minor": 0,
  "metadata": {
    "colab": {
      "provenance": []
    },
    "kernelspec": {
      "name": "python3",
      "display_name": "Python 3"
    },
    "language_info": {
      "name": "python"
    }
  },
  "cells": [
    {
      "cell_type": "markdown",
      "source": [
        "Temas de examen:\n",
        "- Introduccion a python:\n",
        "\n",
        "   - Variables\n",
        "   - Operadores\n",
        "\n",
        "- Estructuras de control:\n",
        "\n",
        "   - if-else (elif)\n",
        "   - while (break)\n",
        "   - for-in\n",
        "   - random\n",
        "   - def funtion, return, yield\n",
        "   - Recursion (memoizacion)\n",
        "- Errores numericos:\n",
        "   \n",
        "   - $E_{tot} = E_{num} + E_{APF}$, (APF=aritmetica de punto flotante)\n",
        "\n"
      ],
      "metadata": {
        "id": "1fMndP5MkD-k"
      }
    },
    {
      "cell_type": "markdown",
      "source": [
        "*** Duferentes métodos para Raices:***\n"
      ],
      "metadata": {
        "id": "BR_3oenmmtgK"
      }
    },
    {
      "cell_type": "code",
      "source": [
        "import matplotlib.pyplot as plt"
      ],
      "metadata": {
        "id": "1vEYm4SuEUr1"
      },
      "execution_count": null,
      "outputs": []
    },
    {
      "cell_type": "code",
      "source": [
        "# Solucion de ecuacioes no lineales:\n",
        "# - Metodo \"Incremental search\"\n",
        "# - Biseccion\n",
        "# - Newton-Rhapson\n",
        "# - Secante\n",
        "# - Ridders\n",
        "\n",
        "# Sea:\n",
        "# f(x)= 0, con x_0, x_1,...,x_n = c +- epsilon."
      ],
      "metadata": {
        "id": "ZoHpbFDamqKy"
      },
      "execution_count": null,
      "outputs": []
    },
    {
      "cell_type": "code",
      "source": [
        "# Metodo \"Incremental search\":\n",
        "\n",
        "# Vamos a encontrar raices:\n",
        "\n",
        "def f(x):\n",
        "  return x**3-10*x**2+5 #Definimos una funcion f\n",
        "def incremental(g,x0,h): #Definimos x0 y h como varibles de la funcion \"incremental\"\n",
        "  x1=x0+h #Definimos la variable x1 en funcion de variables ya definidas\n",
        "  i=0 #Cuenta los pasos que hace colab para ejecutar el comando\n",
        "  while g(x0)*g(x1)>0: #Mientras no encuentras la raiz, ie, es positivo, muestras:\n",
        "    x0=x1\n",
        "    x1=x0+h\n",
        "    i+=1\n",
        "  return x1,i #Este ciclo nos devuelve x1 y los pasos que hace colab para ejecutar\n",
        "print(incremental(f,0,0.0001)) #definimos g=f, x0=0, h=0.0001 y nos devuelve la funcion \"incremental\", ie, la funcion f y el intervalo definido\n"
      ],
      "metadata": {
        "colab": {
          "base_uri": "https://localhost:8080/"
        },
        "id": "7d5yxmwip1Ci",
        "outputId": "d4e5332b-e527-4e6b-f870-f6b11b5dab9c"
      },
      "execution_count": null,
      "outputs": [
        {
          "output_type": "stream",
          "name": "stdout",
          "text": [
            "(0.7346999999999354, 7346)\n"
          ]
        }
      ]
    },
    {
      "cell_type": "code",
      "source": [
        "#Otra forma del metodo incremental\n",
        "def incremental(f,a,b,dx): #funcion,intervalo,dx\n",
        "    x0=a; f0=f(x0)\n",
        "    x1=x0+dx; f1=f(x1)\n",
        "    contador=0.0\n",
        "    while f0*f1>0.0: #parametro de fineza del metodo\n",
        "        if x1>=b: return ('No hay raíz en este intervalo') #salgo del bucle infinito\n",
        "        x0=x1; f0=f1\n",
        "        x1=x0+dx; f1=f(x1)\n",
        "        contador=contador+1\n",
        "    return [x1,contador]"
      ],
      "metadata": {
        "id": "hWaJSRMTB8FI"
      },
      "execution_count": null,
      "outputs": []
    },
    {
      "cell_type": "code",
      "source": [
        "#Metodo biseccion\n",
        "\n",
        "def f(x):\n",
        "  return x**3-10*x**2+5 #Definimos la funcion f\n",
        "def biseccion(g,a,b,precision=1e-6): #Definimos una funcion con variables definidas, con un intervalo donde queremos que colab pare\n",
        "  c=(a+b)/2\n",
        "  i=0 #Cuanta los pasos que hace colab para ejecutar\n",
        "  tol=2 #Ponemos un limite de tolerancia para que colab ejecute el codigo\n",
        "  while tol>precision:\n",
        "      if f(a)*f(c)<0:\n",
        "        b=c\n",
        "      elif f(c)*f(b)<0:\n",
        "        a=c\n",
        "      c=(a+b)/2\n",
        "      i+=1\n",
        "      tol=tol/2 #Dividimos entre dos, pues siempre partimos el intervalo a la mitad\n",
        "  return c,i\n",
        "print(biseccion(f,0,0.8)) #Definimos g=f, y el intervalo (a,b)\n"
      ],
      "metadata": {
        "colab": {
          "base_uri": "https://localhost:8080/"
        },
        "id": "U4e3_SSMq4Oy",
        "outputId": "d3954c56-1682-44bb-e366-c63bce41da7b"
      },
      "execution_count": null,
      "outputs": [
        {
          "output_type": "stream",
          "name": "stdout",
          "text": [
            "(0.7346036911010743, 21)\n"
          ]
        }
      ]
    },
    {
      "cell_type": "code",
      "source": [
        "x=[1, 2, 3, 4,5,8,10,13]\n",
        "\n",
        "#Ahora trabajeremos con una función cuadrática que tiene una complejidad ligeramente superior. Las líneas siguietes, comentadas son la manera en la que podráimos obtener el array y.\n",
        "\n",
        "y = []\n",
        "for i in x:\n",
        "  y.append(i**3-10*(i**2)+5)\n",
        "print(y)\n",
        "\n",
        "y = [-4,-27,-58,-91,-120,-123,5,512]\n",
        "plt.plot(x,y)\n",
        "plt.xlabel('Eje x ')\n",
        "plt.ylabel('Eje y')\n",
        "plt.title('Gráfica de f(x) = x**3-10*x**2+5')\n",
        "plt.show()"
      ],
      "metadata": {
        "colab": {
          "base_uri": "https://localhost:8080/",
          "height": 489
        },
        "id": "W8sXhF4QD9oi",
        "outputId": "dbfac989-2981-40c0-aa4f-f0e7aa5993d6"
      },
      "execution_count": null,
      "outputs": [
        {
          "output_type": "stream",
          "name": "stdout",
          "text": [
            "[-4, -27, -58, -91, -120, -123, 5, 512]\n"
          ]
        },
        {
          "output_type": "display_data",
          "data": {
            "text/plain": [
              "<Figure size 640x480 with 1 Axes>"
            ],
            "image/png": "[encoded data removed]"
          },
          "metadata": {}
        }
      ]
    },
    {
      "cell_type": "code",
      "source": [
        "import pandas as pd #De pandas, importamos pd\n",
        "lista_incremental=[]\n",
        "idx=[]\n",
        "valor_real=0.73460351\n",
        "for i in range(1,7): #Definimos el rango\n",
        "  idx.append(10**(-i))\n",
        "  raiz=incremental(f,0,10**(-i))\n",
        "  error=(abs(valor_real-raiz[0])/valor_real**100)\n",
        "  lista_incremental.append([raiz[0],raiz[1],error])\n",
        "cols=['Raiz','Pasos','Error %']\n",
        "pd.DataFrame(lista_incremental,index=idx,columns=cols)"
      ],
      "metadata": {
        "colab": {
          "base_uri": "https://localhost:8080/",
          "height": 237
        },
        "id": "l6N866kM0CYf",
        "outputId": "81e76bb9-b7b2-4bb3-f11f-ccc947cee821"
      },
      "execution_count": null,
      "outputs": [
        {
          "output_type": "execute_result",
          "data": {
            "text/plain": [
              "              Raiz   Pasos       Error %\n",
              "0.100000  0.800000       7  1.622761e+12\n",
              "0.010000  0.740000      73  1.339095e+11\n",
              "0.001000  0.735000     734  9.838578e+09\n",
              "0.000100  0.734700    7346  2.394321e+09\n",
              "0.000010  0.734610   73460  1.610441e+08\n",
              "0.000001  0.734604  734603  1.215896e+07"
            ],
            "text/html": [
              "\n",
              "  <div id=\"df-adaf7c29-4185-4459-986c-e7ca7125a6a0\" class=\"colab-df-container\">\n",
              "    <div>\n",
              "<style scoped>\n",
              "    .dataframe tbody tr th:only-of-type {\n",
              "        vertical-align: middle;\n",
              "    }\n",
              "\n",
              "    .dataframe tbody tr th {\n",
              "        vertical-align: top;\n",
              "    }\n",
              "\n",
              "    .dataframe thead th {\n",
              "        text-align: right;\n",
              "    }\n",
              "</style>\n",
              "<table border=\"1\" class=\"dataframe\">\n",
              "  <thead>\n",
              "    <tr style=\"text-align: right;\">\n",
              "      <th></th>\n",
              "      <th>Raiz</th>\n",
              "      <th>Pasos</th>\n",
              "      <th>Error %</th>\n",
              "    </tr>\n",
              "  </thead>\n",
              "  <tbody>\n",
              "    <tr>\n",
              "      <th>0.100000</th>\n",
              "      <td>0.800000</td>\n",
              "      <td>7</td>\n",
              "      <td>1.622761e+12</td>\n",
              "    </tr>\n",
              "    <tr>\n",
              "      <th>0.010000</th>\n",
              "      <td>0.740000</td>\n",
              "      <td>73</td>\n",
              "      <td>1.339095e+11</td>\n",
              "    </tr>\n",
              "    <tr>\n",
              "      <th>0.001000</th>\n",
              "      <td>0.735000</td>\n",
              "      <td>734</td>\n",
              "      <td>9.838578e+09</td>\n",
              "    </tr>\n",
              "    <tr>\n",
              "      <th>0.000100</th>\n",
              "      <td>0.734700</td>\n",
              "      <td>7346</td>\n",
              "      <td>2.394321e+09</td>\n",
              "    </tr>\n",
              "    <tr>\n",
              "      <th>0.000010</th>\n",
              "      <td>0.734610</td>\n",
              "      <td>73460</td>\n",
              "      <td>1.610441e+08</td>\n",
              "    </tr>\n",
              "    <tr>\n",
              "      <th>0.000001</th>\n",
              "      <td>0.734604</td>\n",
              "      <td>734603</td>\n",
              "      <td>1.215896e+07</td>\n",
              "    </tr>\n",
              "  </tbody>\n",
              "</table>\n",
              "</div>\n",
              "    <div class=\"colab-df-buttons\">\n",
              "\n",
              "  <div class=\"colab-df-container\">\n",
              "    <button class=\"colab-df-convert\" onclick=\"convertToInteractive('df-adaf7c29-4185-4459-986c-e7ca7125a6a0')\"\n",
              "            title=\"Convert this dataframe to an interactive table.\"\n",
              "            style=\"display:none;\">\n",
              "\n",
              "  <svg xmlns=\"http://www.w3.org/2000/svg\" height=\"24px\" viewBox=\"0 -960 960 960\">\n",
              "    <path d=\"M120-120v-720h720v720H120Zm60-500h600v-160H180v160Zm220 220h160v-160H400v160Zm0 220h160v-160H400v160ZM180-400h160v-160H180v160Zm440 0h160v-160H620v160ZM180-180h160v-160H180v160Zm440 0h160v-160H620v160Z\"/>\n",
              "  </svg>\n",
              "    </button>\n",
              "\n",
              "  <style>\n",
              "    .colab-df-container {\n",
              "      display:flex;\n",
              "      gap: 12px;\n",
              "    }\n",
              "\n",
              "    .colab-df-convert {\n",
              "      background-color: #E8F0FE;\n",
              "      border: none;\n",
              "      border-radius: 50%;\n",
              "      cursor: pointer;\n",
              "      display: none;\n",
              "      fill: #1967D2;\n",
              "      height: 32px;\n",
              "      padding: 0 0 0 0;\n",
              "      width: 32px;\n",
              "    }\n",
              "\n",
              "    .colab-df-convert:hover {\n",
              "      background-color: #E2EBFA;\n",
              "      box-shadow: 0px 1px 2px rgba(60, 64, 67, 0.3), 0px 1px 3px 1px rgba(60, 64, 67, 0.15);\n",
              "      fill: #174EA6;\n",
              "    }\n",
              "\n",
              "    .colab-df-buttons div {\n",
              "      margin-bottom: 4px;\n",
              "    }\n",
              "\n",
              "    [theme=dark] .colab-df-convert {\n",
              "      background-color: #3B4455;\n",
              "      fill: #D2E3FC;\n",
              "    }\n",
              "\n",
              "    [theme=dark] .colab-df-convert:hover {\n",
              "      background-color: #434B5C;\n",
              "      box-shadow: 0px 1px 3px 1px rgba(0, 0, 0, 0.15);\n",
              "      filter: drop-shadow(0px 1px 2px rgba(0, 0, 0, 0.3));\n",
              "      fill: #FFFFFF;\n",
              "    }\n",
              "  </style>\n",
              "\n",
              "    <script>\n",
              "      const buttonEl =\n",
              "        document.querySelector('#df-adaf7c29-4185-4459-986c-e7ca7125a6a0 button.colab-df-convert');\n",
              "      buttonEl.style.display =\n",
              "        google.colab.kernel.accessAllowed ? 'block' : 'none';\n",
              "\n",
              "      async function convertToInteractive(key) {\n",
              "        const element = document.querySelector('#df-adaf7c29-4185-4459-986c-e7ca7125a6a0');\n",
              "        const dataTable =\n",
              "          await google.colab.kernel.invokeFunction('convertToInteractive',\n",
              "                                                    [key], {});\n",
              "        if (!dataTable) return;\n",
              "\n",
              "        const docLinkHtml = 'Like what you see? Visit the ' +\n",
              "          '<a target=\"_blank\" href=https://colab.research.google.com/notebooks/data_table.ipynb>data table notebook</a>'\n",
              "          + ' to learn more about interactive tables.';\n",
              "        element.innerHTML = '';\n",
              "        dataTable['output_type'] = 'display_data';\n",
              "        await google.colab.output.renderOutput(dataTable, element);\n",
              "        const docLink = document.createElement('div');\n",
              "        docLink.innerHTML = docLinkHtml;\n",
              "        element.appendChild(docLink);\n",
              "      }\n",
              "    </script>\n",
              "  </div>\n",
              "\n",
              "\n",
              "<div id=\"df-d3d937ea-0606-4b9f-9dc1-e9184c650a89\">\n",
              "  <button class=\"colab-df-quickchart\" onclick=\"quickchart('df-d3d937ea-0606-4b9f-9dc1-e9184c650a89')\"\n",
              "            title=\"Suggest charts.\"\n",
              "            style=\"display:none;\">\n",
              "\n",
              "<svg xmlns=\"http://www.w3.org/2000/svg\" height=\"24px\"viewBox=\"0 0 24 24\"\n",
              "     width=\"24px\">\n",
              "    <g>\n",
              "        <path d=\"M19 3H5c-1.1 0-2 .9-2 2v14c0 1.1.9 2 2 2h14c1.1 0 2-.9 2-2V5c0-1.1-.9-2-2-2zM9 17H7v-7h2v7zm4 0h-2V7h2v10zm4 0h-2v-4h2v4z\"/>\n",
              "    </g>\n",
              "</svg>\n",
              "  </button>\n",
              "\n",
              "<style>\n",
              "  .colab-df-quickchart {\n",
              "      --bg-color: #E8F0FE;\n",
              "      --fill-color: #1967D2;\n",
              "      --hover-bg-color: #E2EBFA;\n",
              "      --hover-fill-color: #174EA6;\n",
              "      --disabled-fill-color: #AAA;\n",
              "      --disabled-bg-color: #DDD;\n",
              "  }\n",
              "\n",
              "  [theme=dark] .colab-df-quickchart {\n",
              "      --bg-color: #3B4455;\n",
              "      --fill-color: #D2E3FC;\n",
              "      --hover-bg-color: #434B5C;\n",
              "      --hover-fill-color: #FFFFFF;\n",
              "      --disabled-bg-color: #3B4455;\n",
              "      --disabled-fill-color: #666;\n",
              "  }\n",
              "\n",
              "  .colab-df-quickchart {\n",
              "    background-color: var(--bg-color);\n",
              "    border: none;\n",
              "    border-radius: 50%;\n",
              "    cursor: pointer;\n",
              "    display: none;\n",
              "    fill: var(--fill-color);\n",
              "    height: 32px;\n",
              "    padding: 0;\n",
              "    width: 32px;\n",
              "  }\n",
              "\n",
              "  .colab-df-quickchart:hover {\n",
              "    background-color: var(--hover-bg-color);\n",
              "    box-shadow: 0 1px 2px rgba(60, 64, 67, 0.3), 0 1px 3px 1px rgba(60, 64, 67, 0.15);\n",
              "    fill: var(--button-hover-fill-color);\n",
              "  }\n",
              "\n",
              "  .colab-df-quickchart-complete:disabled,\n",
              "  .colab-df-quickchart-complete:disabled:hover {\n",
              "    background-color: var(--disabled-bg-color);\n",
              "    fill: var(--disabled-fill-color);\n",
              "    box-shadow: none;\n",
              "  }\n",
              "\n",
              "  .colab-df-spinner {\n",
              "    border: 2px solid var(--fill-color);\n",
              "    border-color: transparent;\n",
              "    border-bottom-color: var(--fill-color);\n",
              "    animation:\n",
              "      spin 1s steps(1) infinite;\n",
              "  }\n",
              "\n",
              "  @keyframes spin {\n",
              "    0% {\n",
              "      border-color: transparent;\n",
              "      border-bottom-color: var(--fill-color);\n",
              "      border-left-color: var(--fill-color);\n",
              "    }\n",
              "    20% {\n",
              "      border-color: transparent;\n",
              "      border-left-color: var(--fill-color);\n",
              "      border-top-color: var(--fill-color);\n",
              "    }\n",
              "    30% {\n",
              "      border-color: transparent;\n",
              "      border-left-color: var(--fill-color);\n",
              "      border-top-color: var(--fill-color);\n",
              "      border-right-color: var(--fill-color);\n",
              "    }\n",
              "    40% {\n",
              "      border-color: transparent;\n",
              "      border-right-color: var(--fill-color);\n",
              "      border-top-color: var(--fill-color);\n",
              "    }\n",
              "    60% {\n",
              "      border-color: transparent;\n",
              "      border-right-color: var(--fill-color);\n",
              "    }\n",
              "    80% {\n",
              "      border-color: transparent;\n",
              "      border-right-color: var(--fill-color);\n",
              "      border-bottom-color: var(--fill-color);\n",
              "    }\n",
              "    90% {\n",
              "      border-color: transparent;\n",
              "      border-bottom-color: var(--fill-color);\n",
              "    }\n",
              "  }\n",
              "</style>\n",
              "\n",
              "  <script>\n",
              "    async function quickchart(key) {\n",
              "      const quickchartButtonEl =\n",
              "        document.querySelector('#' + key + ' button');\n",
              "      quickchartButtonEl.disabled = true;  // To prevent multiple clicks.\n",
              "      quickchartButtonEl.classList.add('colab-df-spinner');\n",
              "      try {\n",
              "        const charts = await google.colab.kernel.invokeFunction(\n",
              "            'suggestCharts', [key], {});\n",
              "      } catch (error) {\n",
              "        console.error('Error during call to suggestCharts:', error);\n",
              "      }\n",
              "      quickchartButtonEl.classList.remove('colab-df-spinner');\n",
              "      quickchartButtonEl.classList.add('colab-df-quickchart-complete');\n",
              "    }\n",
              "    (() => {\n",
              "      let quickchartButtonEl =\n",
              "        document.querySelector('#df-d3d937ea-0606-4b9f-9dc1-e9184c650a89 button');\n",
              "      quickchartButtonEl.style.display =\n",
              "        google.colab.kernel.accessAllowed ? 'block' : 'none';\n",
              "    })();\n",
              "  </script>\n",
              "</div>\n",
              "    </div>\n",
              "  </div>\n"
            ]
          },
          "metadata": {},
          "execution_count": 23
        }
      ]
    },
    {
      "cell_type": "code",
      "source": [
        "#Otra forma del metodo de biseccion\n",
        "\n",
        "def biseccion(f,a,b,epsilon=1e-6):\n",
        "    contador=0\n",
        "    dx=abs(b-a)\n",
        "    while dx>epsilon:\n",
        "        x=(a+b)/2.0\n",
        "        if (f(a)*f(x))<0:\n",
        "            b=x #izquierda #la raiz estaria entre a y el punto medio\n",
        "        elif (f(x)*f(b))<0:\n",
        "            a=x #derecha #la raiz estaria entre el punto medio y b\n",
        "        else:\n",
        "            dx=epsilon/2\n",
        "            print('El intervalo no tiene raíz')\n",
        "        dx=abs(b-a) #renombrar el intervalo\n",
        "        contador=contador+1\n",
        "    return[x,contador]"
      ],
      "metadata": {
        "id": "lMTm0nUMBIbY"
      },
      "execution_count": null,
      "outputs": []
    },
    {
      "cell_type": "code",
      "source": [
        "#Metodo de la secante\n",
        "import numpy as np\n",
        "def secante(f, x0, x1, delta=1e-9):\n",
        "    contador= 0\n",
        "    dx = delta*2\n",
        "    while dx> delta:  #and contador<1000 :\n",
        "        x = x1 -f(x1)*((x1-x0)/(f(x1) -f(x0)))\n",
        "        dx = abs(x1-x)\n",
        "        x1 = x\n",
        "        contador +=1\n",
        "        res = x\n",
        "    return [res,contador]"
      ],
      "metadata": {
        "id": "3ke63L9XBWsl"
      },
      "execution_count": null,
      "outputs": []
    },
    {
      "cell_type": "code",
      "source": [
        "#Metodo de Ridders\n",
        "\n",
        "def ridders(f,x1,x2,tol=1e-9):\n",
        "    n=0 #este es el contador\n",
        "    f1=f(x1)\n",
        "    if f1==0: return x1\n",
        "    f2=f(x2)\n",
        "    if f2==0: return x2\n",
        "   # if f1*f2>0.0: return np.nan #intervalos correctos\n",
        "    while abs(x1-x2)> tol:\n",
        "        x3=0.5*(x1+x2);f3=f(x3)\n",
        "        raiz=sqrt(f3**2.-f1*f2)\n",
        "        if raiz==0:return None\n",
        "        fraccion=(x3-x1)*f3/raiz\n",
        "        if (f1-f2)<0.0: fraccion=-fraccion #creciente\n",
        "        x4=x3+fraccion; f4=f(x4)\n",
        "        if (f3*f4)>0.0: #decreciente\n",
        "            if f1*f4>0.0:x1=x3;f1=f3\n",
        "            else: x2=x3;f2=f3\n",
        "        else:\n",
        "            x1=x3;x2=x4;f1=f3;f2=f4\n",
        "        n+=1\n",
        "    return [x4,n]"
      ],
      "metadata": {
        "id": "Ka4Y8cQjBf89"
      },
      "execution_count": null,
      "outputs": []
    },
    {
      "cell_type": "code",
      "source": [
        "#Metodo Newton Rhapson\n",
        "# Este metodo solo funciona para funciones continuas y derivables.\n",
        "\n",
        "def newton(f,df,x,epsilon=1e-6): #funcion,derivada,punto\n",
        "    dx=2*epsilon\n",
        "    contador=0\n",
        "    while dx>epsilon and contador<1000:\n",
        "        x1=x-f(x)/df(x)\n",
        "        dx=abs(x-x1)\n",
        "        x=x1\n",
        "        contador=contador+1\n",
        "\n",
        "    return [x,contador]\n"
      ],
      "metadata": {
        "id": "BDg6D2I44e-t"
      },
      "execution_count": null,
      "outputs": []
    }
  ]
}