{
  "nbformat": 4,
  "nbformat_minor": 0,
  "metadata": {
    "colab": {
      "provenance": []
    },
    "kernelspec": {
      "name": "python3",
      "display_name": "Python 3"
    },
    "language_info": {
      "name": "python"
    }
  },
  "cells": [
    {
      "cell_type": "code",
      "source": [
        "import numpy as np\n",
        "import pandas as pd\n",
        "import matplotlib.pyplot as plt\n",
        "from pylab import *\n",
        "from random import *\n",
        "from math import *\n",
        "from IPython.display import Image"
      ],
      "metadata": {
        "id": "mDZqAcEWNrtM"
      },
      "execution_count": null,
      "outputs": []
    },
    {
      "cell_type": "code",
      "execution_count": null,
      "metadata": {
        "id": "IoCrUly04XLE"
      },
      "outputs": [],
      "source": [
        "######################## Euler 1D####\n",
        "def Euler_1d(f,x0,a,b,N):\n",
        "   h = (b-a)/N\n",
        "   x=x0\n",
        "   lista_t=arange(a,b+h,h)\n",
        "   lista_x= []\n",
        "   for i in lista_t:\n",
        "      lista_x.append(x)\n",
        "      x+=h*f(x,i) #EULER\n",
        "   return lista_t,lista_x\n",
        "######################\n"
      ]
    },
    {
      "cell_type": "code",
      "source": [
        "#### EULER 2D ###\n",
        "\n",
        "def Euler_v(f,r0,a,b,N):\n",
        "  h=(b-a)/N\n",
        "  r=r0\n",
        "  lista_t=arange(a,b+h,h)\n",
        "  lista_x=[]\n",
        "  lista_y=[]\n",
        "  for i in lista_t:\n",
        "    lista_x.append(r[0])\n",
        "    lista_y.append(r[1])\n",
        "    r+=h*f(r,i)\n",
        "  return lista_t,lista_x,lista_y"
      ],
      "metadata": {
        "id": "MyFn6PnGskJ-"
      },
      "execution_count": null,
      "outputs": []
    },
    {
      "cell_type": "code",
      "source": [
        "#RK-2 Runge-kutta 2 mejor que el 1\n",
        "import numpy as np\n",
        "import pylab\n",
        "\n",
        "def f(x,t):\n",
        "  return -x**3+sin(t)\n",
        "\n",
        "t0=0.0\n",
        "tf=10.0\n",
        "N=1000\n",
        "\n",
        "def RK2(f,t0,tf,x0,N):\n",
        "  h=(tf-t0)/N\n",
        "  x0=0.0\n",
        "\n",
        "  tvalues=np.arange(t0,tf,x0,h)\n",
        "  xvalues=[]\n",
        "\n",
        "  for t in tvalues:\n",
        "    xvalues.append(x)\n",
        "    k1=h*f(x,t)\n",
        "    k2=h*f(x+0.5*k1,t+0.5*h)\n",
        "    x=x+k2\n",
        "  return tvalues, xvalues\n",
        "\n"
      ],
      "metadata": {
        "id": "_aCwfcef-vGO"
      },
      "execution_count": null,
      "outputs": []
    },
    {
      "cell_type": "code",
      "source": [
        "def RK_2(f,x0,t0,a,b,N):\n",
        "  h=(b-a)/N\n",
        "  Lista_t=arange(a,b+h,h)\n",
        "  Lista_x=[]\n",
        "  x=x0\n",
        "  for i in range(len(Lista_t)):\n",
        "    Lista_x.append(x)\n",
        "    x=Lista_x[i]+h*f(Lista_x[i]+(h/2)*f(Lista_x[i],Lista_t[i]),Lista_t[i]+h/2)\n",
        "  return Lista_t,Lista_x\n"
      ],
      "metadata": {
        "id": "mpiktzkiro7o"
      },
      "execution_count": null,
      "outputs": []
    },
    {
      "cell_type": "code",
      "source": [
        "#####RK2 2D ##############\n",
        "def RK_2vect(f,r0,t0,a,b,N):\n",
        "  h=(b-a)/N\n",
        "  Lista_t=arange(a,b+h,h)\n",
        "  Lista_x=[]\n",
        "  Lista_y=[]\n",
        "  r=r0\n",
        "  for i in range(len(Lista_t)):\n",
        "    Lista_x.append(r[0])\n",
        "    Lista_y.append(r[1])\n",
        "    r+=h*f(r+(h/2)*f(r,Lista_t[i]),Lista_t[i]+h/2)\n",
        "  return Lista_t,Lista_x,Lista_y\n",
        "\n",
        "##############################"
      ],
      "metadata": {
        "id": "daIfUZiWwn3d"
      },
      "execution_count": null,
      "outputs": []
    },
    {
      "cell_type": "code",
      "source": [
        "#rk4\n",
        "\n",
        "def rk4_v2(f,r0,t0,tf,N):\n",
        "  h=(b-a)/N\n",
        "  lista_t=arange(a,b,h)\n",
        "  lista_x,lista_y = [], []\n",
        "  r=r0 #condiciones iniciales\n",
        "  for t in lista_t:\n",
        "    k1=h*f(r,t)\n",
        "    k2=h*f(r+0.5*k1,t+0.5*h)\n",
        "    k3=h*f(r+0.5*k2,t+0.5*h)\n",
        "    k4=h*f(r+k3,t+h)\n",
        "    r+= (k1+2*k2+2*k3+k4)/float(6)\n",
        "    lista_x.append(r[0])\n",
        "    lista_y.append(r[1])\n",
        "  return lista_t, lista_x,lista_y"
      ],
      "metadata": {
        "id": "fcbDqnftJ97a"
      },
      "execution_count": null,
      "outputs": []
    },
    {
      "cell_type": "code",
      "source": [
        "def RK_4V(f,r0,t0,a,b,N):\n",
        "  h=(b-a)/N\n",
        "  Lista_t=arange(a,b+h,h)\n",
        "  Lista_x=[]\n",
        "  Lista_y=[]\n",
        "  r=r0\n",
        "  for i in range(len(Lista_t)):\n",
        "    Lista_x.append(r[0])\n",
        "    Lista_y.append(r[1])\n",
        "    k1=h*f(r,Lista_t[i])\n",
        "    k2=h*f(r+(k1/2),Lista_t[i]+(h/2))\n",
        "    k3=h*f(r+(k2/2),Lista_t[i]+(h/2))\n",
        "    k4=h*f(r+k3,Lista_t[i]+h)\n",
        "    r+=((k1+2*k2+2*k3+k4)/6)\n",
        "  return Lista_t,Lista_x,Lista_y"
      ],
      "metadata": {
        "id": "9z2u7WLyvXoY"
      },
      "execution_count": null,
      "outputs": []
    },
    {
      "cell_type": "code",
      "source": [
        "##### TRAPECIO ####\n",
        "def trapecio(f,a,b,N):\n",
        "  h = abs(b-a)/N\n",
        "  I=0.5*f(a)+0.5*f(b)\n",
        "  for k in range(1,N):\n",
        "    I += f(a+k*h)\n",
        "  return h*I\n",
        "\n",
        "##################"
      ],
      "metadata": {
        "id": "Bi3RSiANYkNg"
      },
      "execution_count": null,
      "outputs": []
    },
    {
      "cell_type": "code",
      "source": [
        "########## Simpson:\n",
        "\n",
        "def Inte_Simpson(f,a,b,N):\n",
        "  h=(b-a)/N\n",
        "  s=0.0\n",
        "  x= a+h\n",
        "  ##Iterar sobre los pares\n",
        "  for i in range(1,N,2):\n",
        "      s += 4*f(x)\n",
        "      x += 2*h\n",
        "  x = a + 2*h\n",
        "  # Iterar sobre los impares\n",
        "  for i in range(2,N,2):\n",
        "      s += 2*f(x)\n",
        "      x += 2*h\n",
        "  return (h/3)*(f(a)+f(b)+s)\n",
        "\n",
        "############"
      ],
      "metadata": {
        "id": "E8tuv5O2ZtJc"
      },
      "execution_count": null,
      "outputs": []
    },
    {
      "cell_type": "code",
      "source": [
        "#SOLUCION DE UNA INTEGRAL POR EL MÈTODO DE MONTE CARLO\n",
        "\n",
        "f=lambda x: (sin(1/(x*(2-x))))**2\n",
        "\n",
        "n = 100000 # son los puntos que vamos a lanzar a nuestro cuadrado que va -1 a 1, o sea es de lado 2, con área = 2**2\n",
        "n_in = 0 #puntos dentro del circulo\n",
        "a= 0 #Definimos los limites en los que queremos integrar, estos son a y b\n",
        "b=2\n",
        "A=(b-a)*1 #A es la àrea del rectangulo, la cual es A=b*h=(x2-x1)*altura, en estw caso h=1\n",
        "#Para casos generales h=(max(f(x))) - min(f(x))\n",
        "\n",
        "for i in range(0,n):\n",
        "  x2=uniform(0,2)\n",
        "  y2=uniform(0,1)\n",
        "  if f(x2) >= y2:\n",
        "     n_in += 1\n",
        "\n",
        "resultado_integral = (n_in/n)*A\n",
        "print(resultado_integral)\n"
      ],
      "metadata": {
        "colab": {
          "base_uri": "https://localhost:8080/"
        },
        "id": "EHpnHRTYZ3i9",
        "outputId": "83166e95-f765-4b82-84ce-f235d09c23f1"
      },
      "execution_count": null,
      "outputs": [
        {
          "output_type": "stream",
          "name": "stdout",
          "text": [
            "1.44862\n"
          ]
        }
      ]
    },
    {
      "cell_type": "code",
      "source": [],
      "metadata": {
        "id": "gIi2wBZgO_I5"
      },
      "execution_count": null,
      "outputs": []
    }
  ]
}