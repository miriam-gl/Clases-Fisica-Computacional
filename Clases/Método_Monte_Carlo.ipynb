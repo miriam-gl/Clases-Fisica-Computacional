{
  "nbformat": 4,
  "nbformat_minor": 0,
  "metadata": {
    "colab": {
      "provenance": []
    },
    "kernelspec": {
      "name": "python3",
      "display_name": "Python 3"
    },
    "language_info": {
      "name": "python"
    }
  },
  "cells": [
    {
      "cell_type": "markdown",
      "source": [
        "**Método de Monte Carlo**\n",
        "\n"
      ],
      "metadata": {
        "id": "owLYWv7boXbc"
      }
    },
    {
      "cell_type": "markdown",
      "source": [
        "Primer método de Monte-Carlo: Hit and Miss"
      ],
      "metadata": {
        "id": "N21toClfpeoB"
      }
    },
    {
      "cell_type": "code",
      "execution_count": null,
      "metadata": {
        "colab": {
          "base_uri": "https://localhost:8080/"
        },
        "id": "xsDeGgddlXJ3",
        "outputId": "1ba73d4c-0ea1-42d4-8df5-2ca0f38e67a2"
      },
      "outputs": [
        {
          "output_type": "stream",
          "name": "stdout",
          "text": [
            "El área del circulo es: 3.142608\n"
          ]
        }
      ],
      "source": [
        "import random\n",
        "from math import sqrt\n",
        "\n",
        "#Para un circulo unirario\n",
        "n = 1000000\n",
        "N_in = 0 #puntos dentro del circulo\n",
        "\n",
        "for i in range(0,n):\n",
        "  x2= random.random()**2 #Generamos aleatoriamente los puntos en las coordenadas x e y\n",
        "  y2 = random.random()**2\n",
        "  r = sqrt(x2+y2) #Definimos la distancia;r = raiz(x*+2 + y**2)\n",
        "  if r <= 1:\n",
        "    N_in += 1\n",
        "    A = 2*2 #Area del cuadrado de lado 2\n",
        "    A_cir = (N_in/n)*A\n",
        "print('El área del circulo es:',A_cir)\n"
      ]
    },
    {
      "cell_type": "code",
      "source": [
        "from pylab import *\n",
        "from random import *\n",
        "from math import *"
      ],
      "metadata": {
        "id": "r1TGfi4626kq"
      },
      "execution_count": null,
      "outputs": []
    },
    {
      "cell_type": "code",
      "source": [
        "#SOLUCION DE UNA INTEGRAL POR EL MÈTODO DE MONTE CARLO\n",
        "\n",
        "f=lambda x: (sin(1/(x*(2-x))))**2\n",
        "\n",
        "n = 100000 # son los puntos que vamos a lanzar a nuestro cuadrado que va -1 a 1, o sea es de lado 2, con área = 2**2\n",
        "n_in = 0 #puntos dentro del circulo\n",
        "a= 0 #Definimos los limites en los que queremos integrar, estos son a y b\n",
        "b=2\n",
        "A=(b-a)*1 #A es la àrea del rectangulo, la cual es A=b*h=(x2-x1)*altura, en estw caso h=1\n",
        "#Para casos generales h=(max(f(x))) - min(f(x))\n",
        "\n",
        "for i in range(0,n):\n",
        "  x2=uniform(0,2)\n",
        "  y2=uniform(0,1)\n",
        "  if f(x2) >= y2:\n",
        "     n_in += 1\n",
        "\n",
        "resultado_integral = (n_in/n)*A\n",
        "print(resultado_integral)\n",
        "\n",
        "\n"
      ],
      "metadata": {
        "colab": {
          "base_uri": "https://localhost:8080/"
        },
        "id": "-zXzsDY_p1v6",
        "outputId": "3a0a18e0-1515-4c70-a2a1-654429a2ea5f"
      },
      "execution_count": null,
      "outputs": [
        {
          "output_type": "stream",
          "name": "stdout",
          "text": [
            "1.45192\n"
          ]
        }
      ]
    },
    {
      "cell_type": "code",
      "source": [
        "# Integral de la misma funcion de una forma más general\n",
        "\n",
        "f = lambda x: (sin(1/(x*(2-x))))**2 #Definimos la funcion que queremos integrar\n",
        "\n",
        "def Hit_miss(f,x_i,x_f,y_i,y_f,N): #definimos otra funcion en la que podamos elegir los limites en los ejes x e y\n",
        "\n",
        "  A=abs(x_f - x_i)*abs(y_f-y_i) #Elárea de un rectangulos es A=base*altura = (x-f - x_i)*(y-f - y_i), escogemos los valores absolutos pq queremos valores positivos\n",
        "  n_in = 0 #Es el valor inical de puntos debajo de la curva de nuestra funcion que queremos integrar\n",
        "  for i in range(0,N):\n",
        "    X2 = uniform(x_i,x_f)\n",
        "    y2= uniform(y_i,y_f)\n",
        "    if f(x2) >= y2:\n",
        "       n_in += 1\n",
        "  area = ((n_in)*A)/float(N)\n",
        "  return area\n",
        "print(Hit_miss(f,0.,2.,0.,1.,10000)) #Elegimos los limites de los ejes x e y y el de N, donde N es la cantidad total de puntos que lanzamos al rectangulo que contiene a la funcion que queremos integrar\n"
      ],
      "metadata": {
        "colab": {
          "base_uri": "https://localhost:8080/"
        },
        "id": "6qPzpGqhwGrY",
        "outputId": "35ddfac9-1d63-40a4-e55b-e89c52091622"
      },
      "execution_count": null,
      "outputs": [
        {
          "output_type": "stream",
          "name": "stdout",
          "text": [
            "1.427\n"
          ]
        }
      ]
    },
    {
      "cell_type": "code",
      "source": [
        "#Método Monte Carlo Crudo\n",
        "\n",
        "def monte_carlo_crudo(f,minimo,maximo,muestras=5000):\n",
        "    s = 0\n",
        "    for i in range(muestras):\n",
        "        x = uniform(minimo, maximo)\n",
        "        s += f(x)\n",
        "    return (maximo - minimo)* float(s/muestras)"
      ],
      "metadata": {
        "id": "BP-Crmpq7iFA"
      },
      "execution_count": null,
      "outputs": []
    },
    {
      "cell_type": "code",
      "source": [],
      "metadata": {
        "id": "jVPycqEkBoRn"
      },
      "execution_count": null,
      "outputs": []
    }
  ]
}